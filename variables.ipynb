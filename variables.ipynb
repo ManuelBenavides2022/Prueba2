{
 "cells": [
  {
   "cell_type": "code",
   "execution_count": 1,
   "id": "6638d065-b3bd-4999-8e0d-bb90e6605963",
   "metadata": {},
   "outputs": [],
   "source": [
    "using Symbolics"
   ]
  },
  {
   "cell_type": "code",
   "execution_count": 2,
   "id": "7739daae-202a-4928-b8d6-f15f6af9bbb1",
   "metadata": {},
   "outputs": [
    {
     "data": {
      "text/latex": [
       "$$ \\begin{equation}\n",
       "\\left[\n",
       "\\begin{array}{c}\n",
       "a \\\\\n",
       "b \\\\\n",
       "c \\\\\n",
       "d \\\\\n",
       "\\end{array}\n",
       "\\right]\n",
       "\\end{equation}\n",
       " $$"
      ],
      "text/plain": [
       "4-element Vector{Num}:\n",
       " a\n",
       " b\n",
       " c\n",
       " d"
      ]
     },
     "execution_count": 2,
     "metadata": {},
     "output_type": "execute_result"
    }
   ],
   "source": [
    "@variables a,b,c,d"
   ]
  },
  {
   "cell_type": "code",
   "execution_count": 3,
   "id": "89d482ab-4c09-4010-8775-931a83883cf1",
   "metadata": {},
   "outputs": [
    {
     "data": {
      "text/latex": [
       "$$ \\begin{equation}\n",
       " - 2 a + 12 b\n",
       "\\end{equation}\n",
       " $$"
      ],
      "text/plain": [
       "-2a + 12b"
      ]
     },
     "execution_count": 3,
     "metadata": {},
     "output_type": "execute_result"
    }
   ],
   "source": [
    "a+b+2a+4b-5a+7b"
   ]
  },
  {
   "cell_type": "code",
   "execution_count": null,
   "id": "96c9963f-351a-41bf-81bc-103189129beb",
   "metadata": {},
   "outputs": [],
   "source": []
  }
 ],
 "metadata": {
  "kernelspec": {
   "display_name": "Julia 1.10.0",
   "language": "julia",
   "name": "julia-1.10"
  },
  "language_info": {
   "file_extension": ".jl",
   "mimetype": "application/julia",
   "name": "julia",
   "version": "1.10.0"
  }
 },
 "nbformat": 4,
 "nbformat_minor": 5
}
